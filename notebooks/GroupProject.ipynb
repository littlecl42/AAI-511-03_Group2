{
  "nbformat": 4,
  "nbformat_minor": 0,
  "metadata": {
    "colab": {
      "provenance": [],
      "include_colab_link": true
    },
    "kernelspec": {
      "name": "python3",
      "display_name": "Python 3"
    },
    "language_info": {
      "name": "python"
    }
  },
  "cells": [
    {
      "cell_type": "markdown",
      "metadata": {
        "id": "view-in-github",
        "colab_type": "text"
      },
      "source": [
        "<a href=\"https://colab.research.google.com/github/littlecl42/AAI-511-03_Group2/blob/main/notebooks/GroupProject.ipynb\" target=\"_parent\"><img src=\"https://colab.research.google.com/assets/colab-badge.svg\" alt=\"Open In Colab\"/></a>"
      ]
    },
    {
      "cell_type": "markdown",
      "source": [
        "## Final Team Project Introduction\n",
        "### Introduction\n",
        "\n",
        "Music is a form of art that is ubiquitous and has a rich history. Different composers have created music with their unique styles and compositions. However, identifying the composer of a particular piece of music can be a challenging task, especially for novice musicians or listeners. The proposed project aims to use deep learning techniques to identify the composer of a given piece of music accurately.\n",
        "\n",
        "### Objective\n",
        "\n",
        "The primary objective of this project is to develop a deep learning model that can predict the composer of a given musical score accurately. The project aims to accomplish this objective by using two deep learning techniques: Long Short-Term Memory (LSTM) and Convolutional Neural Network (CNN).\n",
        "\n",
        "### Project Timeline\n",
        "\n",
        "- Module 2 (by the end of Week 2): The course instructor will group students into teams of two to three members. Canvas, USD Email, or Slack can be used to find prospective team members.\n",
        "- Module 4 (by the end of Week 4): Each team's representative will need to submit the \"Team Project Status Update Form.\"\n",
        "- Module 7 (by the end of Week 7): Each team should submit deliverables for the course project in the final week:\n",
        "\n",
        ">1.  Project Report\n",
        ">1. Project Notebook\n",
        "\n",
        "It is critical to note that no extensions will be given for any of the final projects' due dates for any reason, and final projects submitted after the final due date will not be graded.\n",
        "Dataset\n",
        "\n",
        "The project will use a dataset consisting of musical scores from various composers. The dataset Download datasetwill contain MIDI files and sheet music of compositions from well-known classical composers like Bach, Beethoven, Chopin, Mozart, Schubert, etc. The dataset should be labeled with the name of the composer for each score.\n",
        "\n",
        "### Dataset\n",
        "The project will use a dataset consisting of musical scores from various composers. Download the dataset from Kaggle websiteLinks to an external site..\n",
        "\n",
        "The dataset contains the midi files of compositions from well-known classical composers like Bach, Beethoven, Chopin, and Mozart. The dataset should be labeled with the name of the composer for each score. Please only do your prediction only for below composers, therefore you need to select the required composers from the given dataset above.\n",
        "\n",
        ">1. Bach\n",
        ">1. Beethoven\n",
        ">1. Chopin\n",
        ">1. Mozart\n",
        "\n",
        "### Methodology\n",
        "\n",
        "The proposed project will be implemented using the following steps:\n",
        "\n",
        "1. Data Collection: Data is collected and provided to you.\n",
        "1. Data Pre-processing: Convert the musical scores into a format suitable for deep learning models. This involves converting the musical scores into MIDI files and applying data augmentation techniques.\n",
        "1. Feature Extraction: Extract features from the MIDI files, such as notes, chords, and tempo, using music analysis tools.\n",
        "1. Model Building: Develop a deep learning model using LSTM and CNN architectures to classify the musical scores according to the composer.\n",
        "1. Model Training: Train the deep learning model using the pre-processed and feature-extracted data.\n",
        "1. Model Evaluation: Evaluate the performance of the deep learning model using accuracy, precision, and recall metrics.\n",
        "1. Model Optimization: Optimize the deep learning model by fine-tuning hyperparameters.\n",
        "\n",
        "### Deliverables\n",
        "\n",
        "1. Project Report: A comprehensive documentation/report that describes the methodology, data pre-processing steps, feature extraction techniques, model architecture, and training process for reproducibility and future reference. Write your technical report in APA 7 style (here is a Sample Professional Paper format to follow). Please submit the report in PDF format and use the File naming convention DeliverableName-TeamNumber.pdf; for example, Project_Report-Team1.pdf\n",
        "\n",
        "Your report should:\n",
        "contain a reference list that includes any external sources, libraries, or frameworks used during the project, including proper citations or acknowledgments.\n",
        "\n",
        "include a concluding section or markdown cell that summarizes the project, highlights key findings, and suggests any potential future improvements or extensions to the work.\n",
        "\n",
        "2. Project Notebook: A Jupyter Notebook file (.ipynb) that contains the entire project code, including data pre-processing, feature extraction, model building, training, evaluation, and any additional analysis or visualizations performed during the project.\n",
        "\n",
        "This deliverable will be exported from a Jupyter Notebook and submitted as a PDF or HTML file.\n",
        "\n",
        "### Conclusion\n",
        "\n",
        "The proposed project aims to use deep learning techniques to accurately predict the composer of a given musical score. The project will be implemented using LSTM and CNN architectures and will involve data pre-processing, feature extraction, model building, training, and evaluation. The final model can be used by novice musicians, listeners, and music enthusiasts to identify the composer of a musical piece accurately.\n",
        "\n",
        "### Power Usage for this Project\n",
        "\n",
        "You can use Google Colab GPU and TPU in case you need more computation power. Change your runtime in Google Colab notebook to GPU or TPU.\n",
        "Another option is to buy the subscription in case you need more computational power (recommended).\n",
        "\n",
        "Please follow this link to do so: Google Colab Pro+.\n",
        "NOTE: Team members may not get the same grade on the Final Team Project, depending on each team member's level of contribution.\n",
        "\n",
        "To understand how your work will be assessed, view the assignment rubric on the Final Team Project page.\n",
        "\n"
      ],
      "metadata": {
        "id": "Bix0Kn-bTtNB"
      }
    },
    {
      "cell_type": "code",
      "source": [
        "!pip install pretty_midi\n"
      ],
      "metadata": {
        "colab": {
          "base_uri": "https://localhost:8080/"
        },
        "id": "f8z9HA5Fbpjq",
        "outputId": "020ce55b-a8f7-47f9-bea9-534ea79828c8"
      },
      "execution_count": 4,
      "outputs": [
        {
          "output_type": "stream",
          "name": "stdout",
          "text": [
            "Collecting pretty_midi\n",
            "  Downloading pretty_midi-0.2.10.tar.gz (5.6 MB)\n",
            "\u001b[2K     \u001b[90m━━━━━━━━━━━━━━━━━━━━━━━━━━━━━━━━━━━━━━━━\u001b[0m \u001b[32m5.6/5.6 MB\u001b[0m \u001b[31m54.0 MB/s\u001b[0m eta \u001b[36m0:00:00\u001b[0m\n",
            "\u001b[?25h  Preparing metadata (setup.py) ... \u001b[?25l\u001b[?25hdone\n",
            "Requirement already satisfied: numpy>=1.7.0 in /usr/local/lib/python3.11/dist-packages (from pretty_midi) (2.0.2)\n",
            "Collecting mido>=1.1.16 (from pretty_midi)\n",
            "  Downloading mido-1.3.3-py3-none-any.whl.metadata (6.4 kB)\n",
            "Requirement already satisfied: six in /usr/local/lib/python3.11/dist-packages (from pretty_midi) (1.17.0)\n",
            "Requirement already satisfied: packaging in /usr/local/lib/python3.11/dist-packages (from mido>=1.1.16->pretty_midi) (24.2)\n",
            "Downloading mido-1.3.3-py3-none-any.whl (54 kB)\n",
            "\u001b[2K   \u001b[90m━━━━━━━━━━━━━━━━━━━━━━━━━━━━━━━━━━━━━━━━\u001b[0m \u001b[32m54.6/54.6 kB\u001b[0m \u001b[31m4.4 MB/s\u001b[0m eta \u001b[36m0:00:00\u001b[0m\n",
            "\u001b[?25hBuilding wheels for collected packages: pretty_midi\n",
            "  Building wheel for pretty_midi (setup.py) ... \u001b[?25l\u001b[?25hdone\n",
            "  Created wheel for pretty_midi: filename=pretty_midi-0.2.10-py3-none-any.whl size=5592286 sha256=23f69e3af716946783bde3b23bf752a9c80bb2cd1329548c75ce842c7fbae124\n",
            "  Stored in directory: /root/.cache/pip/wheels/e6/95/ac/15ceaeb2823b04d8e638fd1495357adb8d26c00ccac9d7782e\n",
            "Successfully built pretty_midi\n",
            "Installing collected packages: mido, pretty_midi\n",
            "Successfully installed mido-1.3.3 pretty_midi-0.2.10\n"
          ]
        }
      ]
    },
    {
      "cell_type": "code",
      "source": [
        "# Required libs for the project\n",
        "import kagglehub\n",
        "import pretty_midi\n",
        "import numpy as np\n",
        "import pandas as pd\n",
        "import os\n",
        "import matplotlib.pyplot as plt\n",
        "import seaborn as sns\n",
        "from sklearn.model_selection import train_test_split\n",
        "from sklearn.ensemble import RandomForestClassifier\n",
        "import re\n",
        "import difflib"
      ],
      "metadata": {
        "id": "bkkAxNGqbNmU"
      },
      "execution_count": null,
      "outputs": []
    },
    {
      "cell_type": "code",
      "source": [
        "# Download latest version\n",
        "path = kagglehub.dataset_download(\"blanderbuss/midi-classic-music\")\n",
        "print(\"Path to dataset files:\", path)\n",
        "midi_path = path"
      ],
      "metadata": {
        "id": "JuFW7u5unC8y"
      },
      "execution_count": null,
      "outputs": []
    },
    {
      "cell_type": "markdown",
      "source": [],
      "metadata": {
        "id": "KmBaNCo-nEtL"
      }
    },
    {
      "cell_type": "markdown",
      "source": [],
      "metadata": {
        "id": "T9jzngRfnEw5"
      }
    },
    {
      "cell_type": "code",
      "source": [
        "known_composers = [\n",
        "    \"Bach\", \"Mozart\", \"Beethoven\", \"Chopin\", \"Tchaikovsky\", \"Handel\", \"Schubert\",\n",
        "    \"Haydn\", \"Brahms\", \"Liszt\", \"Mendelssohn\", \"Debussy\", \"Ravel\", \"Grieg\", \"Dvorak\",\n",
        "    \"Vivaldi\", \"Stravinsky\", \"Rachmaninoff\", \"Mahler\", \"Shostakovich\", \"Alkan\", \"Albeniz\",\n",
        "    \"Ambroise\", \"Arensky\", \"Arndt\", \"Bacewitz\"\n",
        "]\n",
        "\n",
        "def load_midi_files(directory):\n",
        "    midi_data = []\n",
        "    bad_files = []  # Track bad files\n",
        "    for root, _, files in os.walk(directory):\n",
        "        for file in files:\n",
        "            if file.lower().endswith((\".mid\", \".midi\")):\n",
        "                try:\n",
        "                    full_path = os.path.join(root, file)\n",
        "                    midi = pretty_midi.PrettyMIDI(full_path)\n",
        "                    midi_data.append((full_path, file, midi))\n",
        "                except Exception:\n",
        "                    bad_files.append(file)\n",
        "                    continue\n",
        "    return midi_data, bad_files"
      ],
      "metadata": {
        "id": "reOXALSYnDA5"
      },
      "execution_count": null,
      "outputs": []
    },
    {
      "cell_type": "code",
      "source": [
        "def extract_composer_from_path(full_path):\n",
        "    parts = os.path.normpath(full_path).split(os.sep)\n",
        "    for part in reversed(parts[:-1]):  # Exclude filename\n",
        "        for composer in known_composers:\n",
        "            if composer.lower() in part.lower():\n",
        "                return composer\n",
        "    return \"Unknown\""
      ],
      "metadata": {
        "id": "LfwnZwmjnDQJ"
      },
      "execution_count": null,
      "outputs": []
    },
    {
      "cell_type": "code",
      "source": [
        "def extract_features(midi_dataset):\n",
        "    rows = []\n",
        "    for full_path, filename, midi in midi_dataset:\n",
        "        try:\n",
        "            duration = midi.get_end_time()\n",
        "            num_instruments = len(midi.instruments)\n",
        "\n",
        "            tempo_changes = midi.get_tempo_changes()\n",
        "            tempo = float(np.mean(tempo_changes[1])) if len(tempo_changes[1]) > 0 else np.nan\n",
        "\n",
        "            notes = [note.pitch for instrument in midi.instruments for note in instrument.notes if not instrument.is_drum]\n",
        "            avg_pitch = np.mean(notes) if notes else np.nan\n",
        "            note_density = len(notes) / duration if duration > 0 else 0\n",
        "\n",
        "            composer = extract_composer_from_path(full_path)\n",
        "\n",
        "            rows.append({\n",
        "                \"filename\": filename,\n",
        "                \"composer\": composer,\n",
        "                \"duration\": duration,\n",
        "                \"num_instruments\": num_instruments,\n",
        "                \"tempo\": tempo,\n",
        "                \"avg_pitch\": avg_pitch,\n",
        "                \"note_density\": note_density\n",
        "            })\n",
        "\n",
        "        except Exception as e:\n",
        "            print(f\"Error processing {filename}: {e}\")\n",
        "            continue\n",
        "\n",
        "    return pd.DataFrame(rows)"
      ],
      "metadata": {
        "id": "zOrkuvJshr4T"
      },
      "execution_count": null,
      "outputs": []
    },
    {
      "cell_type": "code",
      "source": [
        "midi_dataset, bad_files = load_midi_files(midi_path)\n",
        "print(f\"Loaded {len(midi_dataset)} good MIDI files.\")\n",
        "print(f\"Skipped {len(bad_files)} broken files.\")"
      ],
      "metadata": {
        "id": "5s9Ch3sdlile"
      },
      "execution_count": null,
      "outputs": []
    },
    {
      "cell_type": "code",
      "source": [
        "df = extract_features(midi_dataset)"
      ],
      "metadata": {
        "id": "BBB5ZaeDllX9"
      },
      "execution_count": null,
      "outputs": []
    },
    {
      "cell_type": "code",
      "source": [
        "composer_counts = df[\"composer\"].value_counts()\n",
        "print(composer_counts)"
      ],
      "metadata": {
        "id": "BnCQHZj6g74y"
      },
      "execution_count": null,
      "outputs": []
    },
    {
      "cell_type": "code",
      "source": [
        "# Keep only the selected composers\n",
        "df = df[df[\"composer\"].isin([\"Bach\", \"Beethoven\", \"Chopin\", \"Mozart\"])].reset_index(drop=True)"
      ],
      "metadata": {
        "id": "m5kUREWRnnvb"
      },
      "execution_count": null,
      "outputs": []
    },
    {
      "cell_type": "code",
      "source": [
        "composer_counts = df[\"composer\"].value_counts()\n",
        "print(composer_counts)"
      ],
      "metadata": {
        "id": "rah_cPpioCbj"
      },
      "execution_count": null,
      "outputs": []
    },
    {
      "cell_type": "code",
      "source": [
        "df.head()"
      ],
      "metadata": {
        "id": "W-6PIa2KoeJn"
      },
      "execution_count": null,
      "outputs": []
    },
    {
      "cell_type": "code",
      "source": [
        "# Show basic summary of the data\n",
        "df.info()\n",
        "df.describe()"
      ],
      "metadata": {
        "id": "vzmBZqXnog5q"
      },
      "execution_count": null,
      "outputs": []
    },
    {
      "cell_type": "markdown",
      "source": [],
      "metadata": {
        "id": "IJIRspmXnDgR"
      }
    }
  ]
}